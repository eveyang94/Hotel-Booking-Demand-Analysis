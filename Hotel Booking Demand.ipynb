import pandas as pd
import numpy as np
import matplotlib.pyplot as plt
import os
import seaborn as sns
import statsmodels.api as sm
import numpy as np
import datetime
import plotly as px
import plotly.express as px
import plotly.graph_objs as go
%matplotlib inline

from matplotlib import pyplot as plt
from scipy import stats
from statsmodels.tsa.stattools import adfuller 
from pmdarima import auto_arima
from statsmodels.tsa.arima_model import ARIMA
from sklearn.metrics import mean_absolute_percentage_error
